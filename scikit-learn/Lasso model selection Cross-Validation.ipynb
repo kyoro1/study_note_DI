{
 "cells": [
  {
   "cell_type": "markdown",
   "metadata": {},
   "source": [
    "Reference: http://scikit-learn.org/stable/auto_examples/linear_model/plot_lasso_model_selection.html"
   ]
  },
  {
   "cell_type": "code",
   "execution_count": 71,
   "metadata": {
    "collapsed": true
   },
   "outputs": [],
   "source": [
    "import time\n",
    "\n",
    "import numpy as np\n",
    "import matplotlib.pyplot as plt\n",
    "\n",
    "from sklearn.linear_model import LassoCV, LassoLarsCV, LassoLarsIC\n",
    "from sklearn import datasets"
   ]
  },
  {
   "cell_type": "code",
   "execution_count": 72,
   "metadata": {
    "collapsed": true
   },
   "outputs": [],
   "source": [
    "## 前回でも使った`diabetes`のデータ・セットを読み込み\n",
    "diabetes = datasets.load_diabetes()\n",
    "X = diabetes.data\n",
    "y = diabetes.target"
   ]
  },
  {
   "cell_type": "code",
   "execution_count": 73,
   "metadata": {},
   "outputs": [
    {
     "data": {
      "text/plain": [
       "(442L, 10L)"
      ]
     },
     "execution_count": 73,
     "metadata": {},
     "output_type": "execute_result"
    }
   ],
   "source": [
    "X.shape"
   ]
  },
  {
   "cell_type": "code",
   "execution_count": 74,
   "metadata": {},
   "outputs": [
    {
     "data": {
      "text/plain": [
       "array([-0.00188202, -0.04464164, -0.05147406, -0.02632783, -0.00844872,\n",
       "       -0.01916334,  0.07441156, -0.03949338, -0.06832974, -0.09220405])"
      ]
     },
     "execution_count": 74,
     "metadata": {},
     "output_type": "execute_result"
    }
   ],
   "source": [
    "X[1,:]"
   ]
  },
  {
   "cell_type": "code",
   "execution_count": 75,
   "metadata": {},
   "outputs": [
    {
     "data": {
      "text/plain": [
       "(442L,)"
      ]
     },
     "execution_count": 75,
     "metadata": {},
     "output_type": "execute_result"
    }
   ],
   "source": [
    "y.shape"
   ]
  },
  {
   "cell_type": "code",
   "execution_count": 76,
   "metadata": {},
   "outputs": [
    {
     "data": {
      "text/plain": [
       "75.0"
      ]
     },
     "execution_count": 76,
     "metadata": {},
     "output_type": "execute_result"
    }
   ],
   "source": [
    "y[1]"
   ]
  },
  {
   "cell_type": "code",
   "execution_count": 77,
   "metadata": {
    "collapsed": true
   },
   "outputs": [],
   "source": [
    "rng = np.random.RandomState(42)"
   ]
  },
  {
   "cell_type": "code",
   "execution_count": 78,
   "metadata": {},
   "outputs": [
    {
     "data": {
      "text/plain": [
       "mtrand.RandomState"
      ]
     },
     "execution_count": 78,
     "metadata": {},
     "output_type": "execute_result"
    }
   ],
   "source": [
    "type(rng)"
   ]
  },
  {
   "cell_type": "code",
   "execution_count": 79,
   "metadata": {},
   "outputs": [
    {
     "data": {
      "text/plain": [
       "array([[ 0.49671415, -0.1382643 ,  0.64768854, ..., -0.46572975,\n",
       "         0.24196227, -1.91328024],\n",
       "       [-1.72491783, -0.56228753, -1.01283112, ...,  0.11092259,\n",
       "        -1.15099358,  0.37569802],\n",
       "       [-0.60063869, -0.29169375, -0.60170661, ...,  0.19686124,\n",
       "         0.73846658,  0.17136828],\n",
       "       ..., \n",
       "       [ 0.06364906, -0.37177901, -1.47761241, ..., -0.91801906,\n",
       "         0.09237679, -1.56462213],\n",
       "       [ 0.14342657,  0.87152439, -1.25119914, ...,  0.13249714,\n",
       "        -0.38148941, -1.32049344],\n",
       "       [ 0.33748207, -0.26330781, -0.15702483, ..., -0.7487998 ,\n",
       "         0.41680157,  1.16712079]])"
      ]
     },
     "execution_count": 79,
     "metadata": {},
     "output_type": "execute_result"
    }
   ],
   "source": [
    "rng.randn(X.shape[0], 14)"
   ]
  },
  {
   "cell_type": "code",
   "execution_count": 80,
   "metadata": {},
   "outputs": [
    {
     "data": {
      "text/plain": [
       "(442L, 14L)"
      ]
     },
     "execution_count": 80,
     "metadata": {},
     "output_type": "execute_result"
    }
   ],
   "source": [
    "rng.randn(X.shape[0], 14).shape"
   ]
  },
  {
   "cell_type": "code",
   "execution_count": 81,
   "metadata": {
    "collapsed": true
   },
   "outputs": [],
   "source": [
    "## 11列目から14列分のrandom値をくっつける\n",
    "# add some bad features\n",
    "X = np.c_[X, rng.randn(X.shape[0], 14)]"
   ]
  },
  {
   "cell_type": "code",
   "execution_count": 82,
   "metadata": {},
   "outputs": [
    {
     "data": {
      "text/plain": [
       "(442L, 24L)"
      ]
     },
     "execution_count": 82,
     "metadata": {},
     "output_type": "execute_result"
    }
   ],
   "source": [
    "X.shape"
   ]
  },
  {
   "cell_type": "code",
   "execution_count": 83,
   "metadata": {},
   "outputs": [
    {
     "data": {
      "text/plain": [
       "array([ -1.88201653e-03,  -4.46416365e-02,  -5.14740612e-02,\n",
       "        -2.63278347e-02,  -8.44872411e-03,  -1.91633397e-02,\n",
       "         7.44115641e-02,  -3.94933829e-02,  -6.83297436e-02,\n",
       "        -9.22040496e-02,   1.22857208e+00,   2.20224327e+00,\n",
       "         1.33547390e+00,  -7.75379030e-01,  -6.95809611e-01,\n",
       "        -1.59328578e-01,   1.78455889e+00,  -1.65424052e-01,\n",
       "        -1.32750749e+00,  -5.01177137e-01,   7.57056002e-01,\n",
       "         6.89940277e-01,  -2.00216666e-01,   6.83414674e-01])"
      ]
     },
     "execution_count": 83,
     "metadata": {},
     "output_type": "execute_result"
    }
   ],
   "source": [
    "X[1,:]"
   ]
  },
  {
   "cell_type": "code",
   "execution_count": 58,
   "metadata": {},
   "outputs": [
    {
     "data": {
      "text/plain": [
       "array([ -1.88201653e-03,  -4.46416365e-02,  -5.14740612e-02,\n",
       "        -2.63278347e-02,  -8.44872411e-03,  -1.91633397e-02,\n",
       "         7.44115641e-02,  -3.94933829e-02,  -6.83297436e-02,\n",
       "        -9.22040496e-02,   1.22857208e+00,   2.20224327e+00,\n",
       "         1.33547390e+00,  -7.75379030e-01,  -6.95809611e-01,\n",
       "        -1.59328578e-01,   1.78455889e+00,  -1.65424052e-01,\n",
       "        -1.32750749e+00,  -5.01177137e-01,   7.57056002e-01,\n",
       "         6.89940277e-01,  -2.00216666e-01,   6.83414674e-01,\n",
       "         1.35734150e+00,  -1.69893202e-01,   5.37365425e-01,\n",
       "         6.72720488e-01,  -6.28298492e-01,  -1.97528604e-01,\n",
       "         1.33448235e+00,  -1.11719767e+00,   2.12791807e+00,\n",
       "        -7.44872785e-01,  -1.17951746e+00,   1.32309021e-01,\n",
       "         2.20834826e+00,  -1.91096594e+00])"
      ]
     },
     "execution_count": 58,
     "metadata": {},
     "output_type": "execute_result"
    }
   ],
   "source": [
    "X[1,:]"
   ]
  },
  {
   "cell_type": "code",
   "execution_count": 85,
   "metadata": {},
   "outputs": [
    {
     "data": {
      "text/plain": [
       "array([   1.        ,    1.        ,    1.        ,    1.        ,\n",
       "          1.        ,    1.        ,    1.        ,    1.        ,\n",
       "          1.        ,    1.        ,  424.60893796,  443.40316548,\n",
       "        492.20106552,  426.11576877,  457.36719623,  424.08200565,\n",
       "        459.43518669,  414.97417405,  455.59711474,  482.24199167,\n",
       "        502.81891152,  447.26176137,  463.55135182,  387.5052586 ])"
      ]
     },
     "execution_count": 85,
     "metadata": {},
     "output_type": "execute_result"
    }
   ],
   "source": [
    "np.sum(X ** 2, axis=0)"
   ]
  },
  {
   "cell_type": "code",
   "execution_count": 59,
   "metadata": {
    "collapsed": true
   },
   "outputs": [],
   "source": [
    "## データの正規化(random部分のの追加部分を元の成分と同様の正規化)\n",
    "X /= np.sqrt(np.sum(X ** 2, axis=0))"
   ]
  },
  {
   "cell_type": "code",
   "execution_count": 60,
   "metadata": {},
   "outputs": [
    {
     "data": {
      "text/plain": [
       "(442L, 38L)"
      ]
     },
     "execution_count": 60,
     "metadata": {},
     "output_type": "execute_result"
    }
   ],
   "source": [
    "X.shape"
   ]
  },
  {
   "cell_type": "code",
   "execution_count": 61,
   "metadata": {},
   "outputs": [
    {
     "data": {
      "text/plain": [
       "array([-0.00188202, -0.04464164, -0.05147406, -0.02632783, -0.00844872,\n",
       "       -0.01916334,  0.07441156, -0.03949338, -0.06832974, -0.09220405,\n",
       "        0.05962194,  0.10458416,  0.06019551, -0.03756213, -0.03253553,\n",
       "       -0.00773693,  0.08325662, -0.0081206 , -0.06219371, -0.02282226,\n",
       "        0.03376154,  0.0326235 , -0.00929932,  0.03471726,  0.06682611,\n",
       "       -0.00806612,  0.0265543 ,  0.03407526, -0.0282502 , -0.00963381,\n",
       "        0.06068646, -0.0529758 ,  0.0997042 , -0.03736597, -0.05751877,\n",
       "        0.00679859,  0.10103218, -0.09219085])"
      ]
     },
     "execution_count": 61,
     "metadata": {},
     "output_type": "execute_result"
    }
   ],
   "source": [
    "X[1,:]"
   ]
  },
  {
   "cell_type": "code",
   "execution_count": 62,
   "metadata": {},
   "outputs": [
    {
     "data": {
      "text/plain": [
       "array([ 1.,  1.,  1.,  1.,  1.,  1.,  1.,  1.,  1.,  1.,  1.,  1.,  1.,\n",
       "        1.,  1.,  1.,  1.,  1.,  1.,  1.,  1.,  1.,  1.,  1.,  1.,  1.,\n",
       "        1.,  1.,  1.,  1.,  1.,  1.,  1.,  1.,  1.,  1.,  1.,  1.])"
      ]
     },
     "execution_count": 62,
     "metadata": {},
     "output_type": "execute_result"
    }
   ],
   "source": [
    "np.sum(X ** 2, axis=0)"
   ]
  },
  {
   "cell_type": "code",
   "execution_count": 63,
   "metadata": {},
   "outputs": [
    {
     "data": {
      "text/plain": [
       "array([  3.54198621e-06,   1.99287571e-03,   2.64957898e-03,\n",
       "         6.93154881e-04,   7.13809391e-05,   3.67233590e-04,\n",
       "         5.53708087e-03,   1.55972729e-03,   4.66895386e-03,\n",
       "         8.50158677e-03,   3.55477529e-03,   1.09378458e-02,\n",
       "         3.62349994e-03,   1.41091385e-03,   1.05856086e-03,\n",
       "         5.98601102e-05,   6.93166418e-03,   6.59441448e-05,\n",
       "         3.86805816e-03,   5.20855767e-04,   1.13984136e-03,\n",
       "         1.06429305e-03,   8.64773954e-05,   1.20528846e-03,\n",
       "         4.46572936e-03,   6.50622334e-05,   7.05130875e-04,\n",
       "         1.16112318e-03,   7.98073832e-04,   9.28103690e-05,\n",
       "         3.68284637e-03,   2.80643572e-03,   9.94092817e-03,\n",
       "         1.39621588e-03,   3.30840865e-03,   4.62208218e-05,\n",
       "         1.02075018e-02,   8.49915288e-03])"
      ]
     },
     "execution_count": 63,
     "metadata": {},
     "output_type": "execute_result"
    }
   ],
   "source": [
    "(X ** 2)[1,:]"
   ]
  },
  {
   "cell_type": "code",
   "execution_count": 64,
   "metadata": {},
   "outputs": [
    {
     "data": {
      "text/plain": [
       "array([-0.00188202, -0.04464164, -0.05147406, -0.02632783, -0.00844872,\n",
       "       -0.01916334,  0.07441156, -0.03949338, -0.06832974, -0.09220405,\n",
       "        0.05962194,  0.10458416,  0.06019551, -0.03756213, -0.03253553,\n",
       "       -0.00773693,  0.08325662, -0.0081206 , -0.06219371, -0.02282226,\n",
       "        0.03376154,  0.0326235 , -0.00929932,  0.03471726,  0.06682611,\n",
       "       -0.00806612,  0.0265543 ,  0.03407526, -0.0282502 , -0.00963381,\n",
       "        0.06068646, -0.0529758 ,  0.0997042 , -0.03736597, -0.05751877,\n",
       "        0.00679859,  0.10103218, -0.09219085])"
      ]
     },
     "execution_count": 64,
     "metadata": {},
     "output_type": "execute_result"
    }
   ],
   "source": [
    "X[1,:]"
   ]
  },
  {
   "cell_type": "code",
   "execution_count": 65,
   "metadata": {},
   "outputs": [
    {
     "data": {
      "text/plain": [
       "(38L,)"
      ]
     },
     "execution_count": 65,
     "metadata": {},
     "output_type": "execute_result"
    }
   ],
   "source": [
    "np.sum(X ** 2, axis=0).shape"
   ]
  },
  {
   "cell_type": "code",
   "execution_count": 66,
   "metadata": {},
   "outputs": [
    {
     "data": {
      "text/plain": [
       "(38L,)"
      ]
     },
     "execution_count": 66,
     "metadata": {},
     "output_type": "execute_result"
    }
   ],
   "source": [
    "np.sqrt(np.sum(X ** 2, axis=0)).shape"
   ]
  },
  {
   "cell_type": "code",
   "execution_count": 67,
   "metadata": {},
   "outputs": [
    {
     "data": {
      "text/plain": [
       "array([ 1.,  1.,  1.,  1.,  1.,  1.,  1.,  1.,  1.,  1.,  1.,  1.,  1.,\n",
       "        1.,  1.,  1.,  1.,  1.,  1.,  1.,  1.,  1.,  1.,  1.,  1.,  1.,\n",
       "        1.,  1.,  1.,  1.,  1.,  1.,  1.,  1.,  1.,  1.,  1.,  1.])"
      ]
     },
     "execution_count": 67,
     "metadata": {},
     "output_type": "execute_result"
    }
   ],
   "source": [
    "np.sqrt(np.sum(X ** 2, axis=0))"
   ]
  },
  {
   "cell_type": "code",
   "execution_count": 68,
   "metadata": {
    "collapsed": true
   },
   "outputs": [],
   "source": [
    "X /= np.sqrt(np.sum(X ** 2, axis=0))"
   ]
  },
  {
   "cell_type": "code",
   "execution_count": 69,
   "metadata": {},
   "outputs": [
    {
     "data": {
      "text/plain": [
       "(442L, 38L)"
      ]
     },
     "execution_count": 69,
     "metadata": {},
     "output_type": "execute_result"
    }
   ],
   "source": [
    "X.shape"
   ]
  },
  {
   "cell_type": "code",
   "execution_count": 70,
   "metadata": {},
   "outputs": [
    {
     "data": {
      "text/plain": [
       "array([-0.00188202, -0.04464164, -0.05147406, -0.02632783, -0.00844872,\n",
       "       -0.01916334,  0.07441156, -0.03949338, -0.06832974, -0.09220405,\n",
       "        0.05962194,  0.10458416,  0.06019551, -0.03756213, -0.03253553,\n",
       "       -0.00773693,  0.08325662, -0.0081206 , -0.06219371, -0.02282226,\n",
       "        0.03376154,  0.0326235 , -0.00929932,  0.03471726,  0.06682611,\n",
       "       -0.00806612,  0.0265543 ,  0.03407526, -0.0282502 , -0.00963381,\n",
       "        0.06068646, -0.0529758 ,  0.0997042 , -0.03736597, -0.05751877,\n",
       "        0.00679859,  0.10103218, -0.09219085])"
      ]
     },
     "execution_count": 70,
     "metadata": {},
     "output_type": "execute_result"
    }
   ],
   "source": [
    "X[1,:]"
   ]
  },
  {
   "cell_type": "code",
   "execution_count": null,
   "metadata": {
    "collapsed": true
   },
   "outputs": [],
   "source": []
  }
 ],
 "metadata": {
  "kernelspec": {
   "display_name": "Python 2",
   "language": "python",
   "name": "python2"
  },
  "language_info": {
   "codemirror_mode": {
    "name": "ipython",
    "version": 2
   },
   "file_extension": ".py",
   "mimetype": "text/x-python",
   "name": "python",
   "nbconvert_exporter": "python",
   "pygments_lexer": "ipython2",
   "version": "2.7.13"
  }
 },
 "nbformat": 4,
 "nbformat_minor": 2
}
